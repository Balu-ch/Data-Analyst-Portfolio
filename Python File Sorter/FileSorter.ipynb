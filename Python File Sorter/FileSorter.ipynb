{
 "cells": [
  {
   "cell_type": "code",
   "execution_count": 1,
   "id": "7064def4",
   "metadata": {},
   "outputs": [],
   "source": [
    "import os,shutil"
   ]
  },
  {
   "cell_type": "code",
   "execution_count": 2,
   "id": "ee37d963",
   "metadata": {},
   "outputs": [],
   "source": [
    "# storing the path\n",
    "path = r\"D:\\Data Analyst Portfolio\\_Projects\\Python File Sorter\""
   ]
  },
  {
   "cell_type": "code",
   "execution_count": 10,
   "id": "7eeedcfe",
   "metadata": {},
   "outputs": [],
   "source": [
    "# loop through only files in the directory\n",
    "for file in os.listdir(path):\n",
    "    \n",
    "    if os.path.isfile(os.path.join(path, file)):\n",
    "       \n",
    "        # dictionary to map extensions to folder names\n",
    "        extensions = {\n",
    "            \".csv\": \"Csv Folder\",\n",
    "            \".png\": \"Image Folder\",\n",
    "            \".jpg\": \"Image Folder\",\n",
    "            \".jpeg\": \"Image Folder\",\n",
    "            \".gif\": \"Image Folder\",\n",
    "            \".txt\": \"Text Folder\"\n",
    "        }\n",
    "        \n",
    "        # check if the folder exists, if not create a new folder\n",
    "        for folder in extensions.values():\n",
    "            if not os.path.exists(os.path.join(path, folder)):\n",
    "                os.makedirs(os.path.join(path, folder))\n",
    "                \n",
    "        \n",
    "        # sort the file with given extensions into the folders\n",
    "        for ext, folder in extensions.items():\n",
    "            if file.endswith(ext) and not os.path.exists(os.path.join(path, folder, file)):\n",
    "                shutil.move(os.path.join(path, file), os.path.join(path, folder, file))\n",
    "                break\n"
   ]
  },
  {
   "cell_type": "code",
   "execution_count": null,
   "id": "d86f4d8e",
   "metadata": {},
   "outputs": [],
   "source": []
  },
  {
   "cell_type": "code",
   "execution_count": null,
   "id": "d80b35d5",
   "metadata": {},
   "outputs": [],
   "source": []
  }
 ],
 "metadata": {
  "kernelspec": {
   "display_name": "Python 3 (ipykernel)",
   "language": "python",
   "name": "python3"
  },
  "language_info": {
   "codemirror_mode": {
    "name": "ipython",
    "version": 3
   },
   "file_extension": ".py",
   "mimetype": "text/x-python",
   "name": "python",
   "nbconvert_exporter": "python",
   "pygments_lexer": "ipython3",
   "version": "3.9.13"
  }
 },
 "nbformat": 4,
 "nbformat_minor": 5
}
