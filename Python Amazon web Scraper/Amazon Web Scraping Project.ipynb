{
 "cells": [
  {
   "cell_type": "code",
   "execution_count": 1,
   "id": "e66748e0",
   "metadata": {},
   "outputs": [],
   "source": [
    "# importing Libraries\n",
    "\n",
    "from bs4 import BeautifulSoup\n",
    "import requests\n",
    "import smtplib\n",
    "import time\n",
    "import datetime"
   ]
  },
  {
   "cell_type": "code",
   "execution_count": 2,
   "id": "5eefe6a4",
   "metadata": {},
   "outputs": [
    {
     "name": "stdout",
     "output_type": "stream",
     "text": [
      "Good Hope PlexiGlass Food Panda Funny Framed Poster, Multicolor, Print,10 Inch X 13 Inch, Framed\n",
      "369\n"
     ]
    }
   ],
   "source": [
    "# connect to website to pull in data\n",
    "URL =\"https://www.amazon.in/Good-Hope-Framed-Poster-Office/dp/B083KMTR2H/ref=sr_1_48?crid=33HVN4GBX4RQS&keywords=funny&qid=1678123051&sprefix=funny%2Caps%2C222&sr=8-48\" \n",
    "\n",
    "headers ={\"User-Agent\": \"Mozilla/5.0 (Windows NT 10.0; Win64; x64) AppleWebKit/537.36 (KHTML, like Gecko) Chrome/110.0.0.0 Safari/537.36\",} \n",
    "\n",
    "page =requests.get(URL,headers=headers)\n",
    "\n",
    "Soup1 =BeautifulSoup(page.content,\"html.parser\")\n",
    "Soup2 =BeautifulSoup(Soup1.prettify(),\"html.parser\")\n",
    "\n",
    "# extracing the contents from soup\n",
    "title =Soup2.find(id='productTitle').get_text()\n",
    "price =Soup2.find(id='corePriceDisplay_desktop_feature_div' ).get_text()\n",
    "\n",
    "\n",
    "\n",
    "\n",
    "# cleaning the data\n",
    "title =title.strip() \n",
    "Cost=price.split()\n",
    "price =Cost[1].strip()[1:]\n",
    "\n",
    "print(title)\n",
    "print(price)\n",
    "\n",
    "\n",
    "\n",
    "\n",
    "\n",
    "\n"
   ]
  },
  {
   "cell_type": "code",
   "execution_count": 3,
   "id": "af16db8f",
   "metadata": {},
   "outputs": [],
   "source": [
    "# creating a time stamp for output to track\n",
    "today =datetime.date.today()"
   ]
  },
  {
   "cell_type": "code",
   "execution_count": null,
   "id": "8939b902",
   "metadata": {},
   "outputs": [],
   "source": [
    "# creating a csv and giving permission to write data\n",
    "# run only once when creating \n",
    "\n",
    "import csv\n",
    "\n",
    "header =['Title','Price in Rupees','Date']\n",
    "data =[title,price,today]\n",
    "\n",
    "\n",
    "\"\"\"\n",
    "    with open('AmazonWebScaperDataSet.csv','w', newline='',encoding ='UTF8')as f:\n",
    "    writer =csv.writer(f)\n",
    "    writer.writerow(header)\n",
    "    writer.writerow(data)\n",
    "\"\"\" \n",
    "    "
   ]
  },
  {
   "cell_type": "code",
   "execution_count": 4,
   "id": "30887d3f",
   "metadata": {},
   "outputs": [
    {
     "name": "stdout",
     "output_type": "stream",
     "text": [
      "                                               Title  Price in Rupees  \\\n",
      "0  Good Hope PlexiGlass Food Panda Funny Framed P...              369   \n",
      "1  Good Hope PlexiGlass Food Panda Funny Framed P...              369   \n",
      "2  Good Hope PlexiGlass Food Panda Funny Framed P...              369   \n",
      "3  Good Hope PlexiGlass Food Panda Funny Framed P...              369   \n",
      "4  Good Hope PlexiGlass Food Panda Funny Framed P...              369   \n",
      "5  Good Hope PlexiGlass Food Panda Funny Framed P...              369   \n",
      "\n",
      "         Date  \n",
      "0  07-03-2023  \n",
      "1  07-03-2023  \n",
      "2  07-03-2023  \n",
      "3  07-03-2023  \n",
      "4  07-03-2023  \n",
      "5  07-03-2023  \n"
     ]
    }
   ],
   "source": [
    "# importing pandas to read csv\n",
    "\n",
    "import pandas as pd\n",
    "\n",
    "\n",
    "dataframe =pd.read_csv(r'C:\\Users\\subha\\AmazonWebScaperDataSet.csv')\n",
    "print(dataframe)\n"
   ]
  },
  {
   "cell_type": "code",
   "execution_count": 7,
   "id": "a38d699a",
   "metadata": {},
   "outputs": [],
   "source": [
    "# appending the data to the csv\n",
    "import csv\n",
    "data =[title,price,today]\n",
    "with open('AmazonWebScaperDataSet.csv','a+', newline='',encoding ='UTF8')as f:\n",
    "    writer =csv.writer(f)\n",
    "    writer.writerow(data)\n",
    "\n",
    "\n"
   ]
  },
  {
   "cell_type": "code",
   "execution_count": 1,
   "id": "1b3cb79f",
   "metadata": {},
   "outputs": [],
   "source": [
    "# combining the above code into single function\n",
    "\n",
    "def Check_price():\n",
    "    URL =\"https://www.amazon.in/Good-Hope-Framed-Poster-Office/dp/B083KMTR2H/ref=sr_1_48?crid=33HVN4GBX4RQS&keywords=funny&qid=1678123051&sprefix=funny%2Caps%2C222&sr=8-48\" \n",
    "\n",
    "    headers ={\"User-Agent\": \"Mozilla/5.0 (Windows NT 10.0; Win64; x64) AppleWebKit/537.36 (KHTML, like Gecko) Chrome/110.0.0.0 Safari/537.36\",} \n",
    "\n",
    "    page =requests.get(URL,headers=headers)\n",
    "\n",
    "    Soup1 =BeautifulSoup(page.content,\"html.parser\")\n",
    "    Soup2 =BeautifulSoup(Soup1.prettify(),\"html.parser\")\n",
    "\n",
    "    title =Soup2.find(id='productTitle').get_text()\n",
    "    price =Soup2.find(id='corePriceDisplay_desktop_feature_div' ).get_text()\n",
    "\n",
    "\n",
    "    title =title.strip() \n",
    "    Cost=price.split()\n",
    "    price =Cost[1].strip()[1:]\n",
    "\n",
    "    today =datetime.date.today()\n",
    "    import csv\n",
    "\n",
    "    header =['Title','Price in Rupees','Date']\n",
    "    data =[title,price,today]\n",
    "\n",
    "    with open('AmazonWebScaperDataSet.csv','a+', newline='',encoding ='UTF8')as f:\n",
    "        writer =csv.writer(f)\n",
    "        writer.writerow(data)\n",
    "    \n",
    "    # sending email for your desired price range\n",
    "    if(int(price)<250):\n",
    "        send_mail('your@gmail.com','2fa password','reciever@gmail.com')\n",
    "        \n"
   ]
  },
  {
   "cell_type": "code",
   "execution_count": 2,
   "id": "a82f4325",
   "metadata": {},
   "outputs": [],
   "source": [
    "# checks price after a set time intervals (in seconds)\n",
    "\n",
    "while(True):\n",
    "    Check_price()\n",
    "    time.sleep(10)"
   ]
  },
  {
   "cell_type": "code",
   "execution_count": null,
   "id": "e8144892",
   "metadata": {},
   "outputs": [],
   "source": [
    "# Reading the data from csv\n",
    "\n",
    "dataframe =pd.read_csv(r'C:\\Users\\subha\\AmazonWebScaperDataSet.csv')\n",
    "print(dataframe)\n"
   ]
  },
  {
   "cell_type": "code",
   "execution_count": 46,
   "id": "496df308",
   "metadata": {
    "scrolled": false
   },
   "outputs": [],
   "source": [
    "import os\n",
    "from email.message import EmailMessage\n",
    "import ssl\n",
    "import smtplib\n",
    "def send_mail(yourMail,password,recieverMail):\n",
    "    try:\n",
    "        \n",
    "        # Setting up the email subject and body\n",
    "        subject =\"Check this out !. The frame is under 250!\"\n",
    "        body =\"The panda frame you wanted is now under 250. Don't miss this chance. Here is the link: https://www.amazon.in/Good-Hope-Framed-Poster-Office/dp/B083KMTR2H/ref=sr_1_48?crid=33HVN4GBX4RQS&keywords=funny&qid=1678123051&sprefix=funny%2Caps%2C222&sr=8-48\"\n",
    "\n",
    "        # Creating an EmailMessage object to hold the email's details\n",
    "        em =EmailMessage()\n",
    "        em['From'] =yourMail\n",
    "        em['To'] =recieverMail\n",
    "        em['Subject'] =subject\n",
    "        em.set_content(body)\n",
    "\n",
    "        # Setting up the SSL context for the SMTP server\n",
    "        context =ssl.create_default_context()\n",
    "\n",
    "        # Creating an SMTP server object using Gmail's SMTP server and SSL, and logging in to the email account\n",
    "        server =smtplib.SMTP_SSL('smtp.gmail.com', 465)\n",
    "        server.ehlo()\n",
    "        server.login(yourMail,password)\n",
    "        \n",
    "        # Sending the email\n",
    "        server.sendmail(yourMail,recieverMail,em.as_string())\n",
    "    except Exception as e:\n",
    "        print(f\"An error occurred: {e}\")\n",
    "    finally:\n",
    "        # Closing the connection to the SMTP server\n",
    "        server.quit()\n",
    "\n",
    " "
   ]
  },
  {
   "cell_type": "code",
   "execution_count": null,
   "id": "3498b018",
   "metadata": {},
   "outputs": [],
   "source": []
  }
 ],
 "metadata": {
  "kernelspec": {
   "display_name": "Python 3 (ipykernel)",
   "language": "python",
   "name": "python3"
  },
  "language_info": {
   "codemirror_mode": {
    "name": "ipython",
    "version": 3
   },
   "file_extension": ".py",
   "mimetype": "text/x-python",
   "name": "python",
   "nbconvert_exporter": "python",
   "pygments_lexer": "ipython3",
   "version": "3.9.13"
  }
 },
 "nbformat": 4,
 "nbformat_minor": 5
}
